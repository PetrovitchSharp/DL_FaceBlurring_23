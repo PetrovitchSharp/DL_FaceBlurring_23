{
 "cells": [
  {
   "cell_type": "code",
   "execution_count": 1,
   "id": "27b5d475-0b60-4778-b5da-1cc95f70b38c",
   "metadata": {},
   "outputs": [],
   "source": [
    "import json\n",
    "from pathlib import Path\n",
    "from typing import Dict\n",
    "\n",
    "import cv2\n",
    "\n",
    "from matplotlib import pyplot as plt"
   ]
  },
  {
   "cell_type": "code",
   "execution_count": 2,
   "id": "21c7a2a3-e465-404a-b839-1562b40c1e61",
   "metadata": {},
   "outputs": [],
   "source": [
    "def convert_WIDER_face_dataset_to_COCO_format(filename: str, image_path: Path) -> Dict:\n",
    "    with open(filename) as f:\n",
    "        lines = f.readlines()\n",
    "    \n",
    "    categories = [{\n",
    "        'id': 1,\n",
    "        'name': 'face',\n",
    "        'supercategory': 'face'\n",
    "    }]\n",
    "    images = []\n",
    "    annotations = []\n",
    "    \n",
    "    image_id = 0\n",
    "    anno_id = 0\n",
    "    i = 0\n",
    "    while i < len(lines):\n",
    "        # Image info\n",
    "        img_name = lines[i].strip()\n",
    "        img = cv2.imread(str(image_path / img_name))\n",
    "        image = {\n",
    "            'id': image_id,\n",
    "            'file_name': img_name,\n",
    "            'height': img.shape[0],\n",
    "            'width': img.shape[1]\n",
    "            }\n",
    "        images.append(image)\n",
    "        i += 1\n",
    "        \n",
    "        # Number of faces on image\n",
    "        num_anno = int(lines[i].strip())\n",
    "        i += 1\n",
    "        if num_anno == 0:\n",
    "            i += 1\n",
    "            continue\n",
    "            \n",
    "        # Annotations\n",
    "        for j in range(num_anno):\n",
    "            anno = {'id': anno_id,\n",
    "                    'image_id': image_id,\n",
    "                    'category_id': 1,\n",
    "                    'iscrowd': 0}\n",
    "            \n",
    "            bbox = [int(el) for el in lines[i].strip().split()][:4]\n",
    "            area = bbox[2] * bbox[3]\n",
    "            anno['area'] = area\n",
    "            anno['bbox'] = bbox\n",
    "            annotations.append(anno)\n",
    "            anno_id += 1\n",
    "            i += 1\n",
    "        image_id += 1\n",
    "    return {\n",
    "        'images': images,\n",
    "        'annotations': annotations,\n",
    "        'categories': categories\n",
    "    }"
   ]
  },
  {
   "cell_type": "code",
   "execution_count": 3,
   "id": "ea18d11d-2423-49c1-94cc-66323bc0e43f",
   "metadata": {
    "tags": []
   },
   "outputs": [
    {
     "name": "stdout",
     "output_type": "stream",
     "text": [
      "CPU times: user 1min 8s, sys: 225 ms, total: 1min 9s\n",
      "Wall time: 1min 9s\n"
     ]
    }
   ],
   "source": [
    "%%time\n",
    "\n",
    "train_wider_face = '../data/wider_face_split/wider_face_train_bbx_gt.txt'\n",
    "image_path = Path('../data/WIDER_train/images')\n",
    "\n",
    "coco_annotations = convert_WIDER_face_dataset_to_COCO_format(train_wider_face, image_path)"
   ]
  },
  {
   "cell_type": "code",
   "execution_count": 4,
   "id": "ee1b026b-682c-44c2-b5cf-336bfd8781eb",
   "metadata": {},
   "outputs": [],
   "source": [
    "with open('../data/wider_face_train.json', 'w') as f:\n",
    "    json.dump(coco_annotations, f)"
   ]
  },
  {
   "cell_type": "code",
   "execution_count": 5,
   "id": "d6fbce93-a1a1-4a63-be56-d894c955baf4",
   "metadata": {},
   "outputs": [
    {
     "name": "stdout",
     "output_type": "stream",
     "text": [
      "CPU times: user 17.1 s, sys: 72 ms, total: 17.1 s\n",
      "Wall time: 17.1 s\n"
     ]
    }
   ],
   "source": [
    "%%time\n",
    "\n",
    "train_wider_face = '../data/wider_face_split/wider_face_val_bbx_gt.txt'\n",
    "image_path = Path('../data/WIDER_val/images')\n",
    "\n",
    "coco_annotations = convert_WIDER_face_dataset_to_COCO_format(train_wider_face, image_path)"
   ]
  },
  {
   "cell_type": "code",
   "execution_count": 6,
   "id": "014dc207-6117-4df0-a862-8d12b1e236f0",
   "metadata": {},
   "outputs": [],
   "source": [
    "with open('../data/wider_face_val.json', 'w') as f:\n",
    "    json.dump(coco_annotations, f)"
   ]
  },
  {
   "cell_type": "code",
   "execution_count": null,
   "id": "10fed9fe-a245-4362-95d4-4975eed31344",
   "metadata": {},
   "outputs": [],
   "source": []
  }
 ],
 "metadata": {
  "kernelspec": {
   "display_name": "Python 3 (ipykernel)",
   "language": "python",
   "name": "python3"
  },
  "language_info": {
   "codemirror_mode": {
    "name": "ipython",
    "version": 3
   },
   "file_extension": ".py",
   "mimetype": "text/x-python",
   "name": "python",
   "nbconvert_exporter": "python",
   "pygments_lexer": "ipython3",
   "version": "3.10.7"
  }
 },
 "nbformat": 4,
 "nbformat_minor": 5
}
